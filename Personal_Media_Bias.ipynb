{
  "nbformat": 4,
  "nbformat_minor": 0,
  "metadata": {
    "colab": {
      "name": "Personal_Media_Bias.ipynb",
      "provenance": []
    },
    "kernelspec": {
      "name": "python3",
      "display_name": "Python 3"
    },
    "language_info": {
      "name": "python"
    },
    "accelerator": "GPU"
  },
  "cells": [
    {
      "cell_type": "code",
      "metadata": {
        "id": "acFo6rgny6-V"
      },
      "source": [
        "from pydrive.auth import GoogleAuth\n",
        "from pydrive.drive import GoogleDrive\n",
        "from google.colab import auth\n",
        "from oauth2client.client import GoogleCredentials\n",
        "import io\n",
        "import zipfile\n",
        "auth.authenticate_user()\n",
        "gauth = GoogleAuth()\n",
        "gauth.credentials = GoogleCredentials.get_application_default()\n",
        "drive = GoogleDrive(gauth)\n"
      ],
      "execution_count": null,
      "outputs": []
    },
    {
      "cell_type": "code",
      "metadata": {
        "id": "prnvfHSuy_11"
      },
      "source": [
        "# Regular modules for data science and visualization:\n",
        "import numpy as np\n",
        "import pandas as pd\n",
        "\n",
        "import seaborn as sns\n",
        "import matplotlib.pyplot as plt\n",
        "import random\n",
        "\n",
        "# Keras (2.2.4) and tensorflow (1.13).\n",
        "import tensorflow as tf\n",
        "import tensorflow_hub as hub\n",
        "import tensorflow.compat.v1 as tf\n",
        "tf.disable_v2_behavior()\n",
        "#import tf_sentencepiece\n",
        "\n",
        "from keras.regularizers import l1, l2\n",
        "from keras.models import Sequential\n",
        "from keras.layers import Dense\n",
        "from keras.layers import Dropout\n",
        "from keras import backend\n",
        "from keras import optimizers\n",
        "\n",
        "#sklearn and imblearn modules:\n",
        "from sklearn.model_selection import cross_val_predict\n",
        "from sklearn.preprocessing import StandardScaler\n",
        "from sklearn.model_selection import StratifiedShuffleSplit\n",
        "from imblearn.over_sampling import SMOTE"
      ],
      "execution_count": null,
      "outputs": []
    },
    {
      "cell_type": "code",
      "metadata": {
        "colab": {
          "base_uri": "https://localhost:8080/"
        },
        "id": "kw1xAFrdzBqH",
        "outputId": "7abe0737-8411-4cf5-d96d-689ccf9e7ea2"
      },
      "source": [
        "#Density:\n",
        "p = 0.4\n",
        "df = pd.read_csv('/content/drive/MyDrive/archive/articles2.csv',header=None,skiprows=lambda i: 1>0 and random.random() > p)\n",
        "print(df.head(5))\n",
        "print(df.columns)"
      ],
      "execution_count": null,
      "outputs": [
        {
          "output_type": "stream",
          "name": "stdout",
          "text": [
            "         0      1  ...    8                                                  9\n",
            "0      NaN     id  ...  url                                            content\n",
            "1  53294.0  73472  ...  NaN  In Norse mythology, humans and our world were ...\n",
            "2  53299.0  73478  ...  NaN  In Barack Obama’s final speech as president, h...\n",
            "3  53303.0  73486  ...  NaN  That retired General James “Mad Dog” Mattis, D...\n",
            "4  53304.0  73487  ...  NaN             This article is part of a feature w...\n",
            "\n",
            "[5 rows x 10 columns]\n",
            "Int64Index([0, 1, 2, 3, 4, 5, 6, 7, 8, 9], dtype='int64')\n"
          ]
        }
      ]
    },
    {
      "cell_type": "code",
      "metadata": {
        "colab": {
          "base_uri": "https://localhost:8080/"
        },
        "id": "71Pg-W54zD1R",
        "outputId": "b2d8dbb4-4254-4e82-be27-e9a7f46bc8cf"
      },
      "source": [
        "print(df[0].values)\n",
        "# NAN, id, title, publication, author, date, year, month, url, content\n",
        "#First batch:\n",
        "n_s_a = df[df[3] == 'Atlantic']\n",
        "n_s_p = df[df[3] == 'New York Post']\n",
        "#Second batch:\n",
        "#df = pd.read_csv('/content/drive/MyDrive/archive/articles1.csv',header=None,skiprows=lambda i: 1>0 and random.random() > p)\n",
        "n_s_b = df[df[3] == 'Breitbart']\n",
        "n_s_n = df[df[3] == 'New York Times']"
      ],
      "execution_count": null,
      "outputs": [
        {
          "output_type": "stream",
          "name": "stdout",
          "text": [
            "[    nan  53294.  53299. ... 103455. 103456. 103457.]\n"
          ]
        }
      ]
    },
    {
      "cell_type": "code",
      "metadata": {
        "id": "FSzlI4tRzGKp"
      },
      "source": [
        "n_s = list(n_s_b.iloc[:,9].values) + list(n_s_p.iloc[:,9].values) \\\n",
        " + list(n_s_a.iloc[:,9].values) + list(n_s_n.iloc[:,9].values)"
      ],
      "execution_count": null,
      "outputs": []
    },
    {
      "cell_type": "code",
      "metadata": {
        "id": "vAWUTc1_zHy9"
      },
      "source": [
        "n_s = [word.replace('New York Post','') for word in n_s]\n",
        "n_s = [word.replace('Breitbart','') for word in n_s]\n",
        "n_s = [word.replace('New York Times','') for word in n_s]\n",
        "n_s = [word.replace('Atlantic','') for word in n_s]\n",
        "\n",
        "#Outlet classifier:\n",
        "classes_All = np.asarray([1 for i in range(len(n_s_b))] + [2 for i in range(len(n_s_p))] + [3 for i in range(len(n_s_a))] +\n",
        "[4 for i in range(len(n_s_n))])\n",
        "#Bias classifier: #1 meaning right wing, 2 meaning left wing\n",
        "classes_Bias = np.asarray([1 for i in range(len(n_s_b))] + \n",
        "[1 for i in range(len(n_s_p))] + [2 for i in range(len(n_s_a))] + \n",
        "[2 for i in range(len(n_s_n))])"
      ],
      "execution_count": null,
      "outputs": []
    },
    {
      "cell_type": "code",
      "metadata": {
        "colab": {
          "base_uri": "https://localhost:8080/"
        },
        "id": "zdZ_P2fszqY6",
        "outputId": "95130c4b-5d17-4f8d-b22a-386a47d59a33"
      },
      "source": [
        "print(len(n_s))\n",
        "print(n_s[0])"
      ],
      "execution_count": null,
      "outputs": [
        {
          "output_type": "stream",
          "name": "stdout",
          "text": [
            "9763\n",
            "ISTANBUL  —   An assailant believed to have been dressed in a Santa Claus costume opened fire at a nightclub in Istanbul during New Year’s celebrations Saturday, killing at least 35 people and wounding 40 others in what the city’s governor described as a terror attack. Gov. Vasip Sahin said the attacker, armed with a   weapon, killed a policeman and a civilian outside the club before entering and firing on people partying inside. He did not say who may have carried out what he called a “terror attack. ” “Unfortunately (he) rained bullets in a very cruel and merciless way on innocent people who were there to celebrate New Year’s and have fun,” Sahin told reporters. Media reports said the assailant entered the popular Reina nightclub, in Istanbul’s Ortakoy district, at 1:45 am, dressed in a Santa Claus costume. There were more than 500 people inside the club at the time, private NTV television reported. Some customers jumped into the waters of the Bosporus to escape the attack, the report said. NTV television said the assailant may still be inside the nightclub. Footage from the scene showed at least six ambulances with flashing lights and civilians being escorted out. NTV said police had cordoned off the area and an operation to capture the assailant was ongoing. An AP photographer said police cordoned off the area about 2 miles (3 kilometers) away from the nightclub and reported multiple ambulances passing by.  Security measures had been heightened in major Turkish cities, with police barring traffic leading up to key squares in Istanbul and the capital Ankara. In Istanbul, 17, 000 police officers were put on duty, some camouflaged as Santa Claus and others as street vendors, state news agency Anadolu reported.  Ankara and Istanbul have been targeted by several attacks in 2016 carried out by the Islamic State group or Kurdish rebels, killing more than 180 people. ’da silahlı saldırı  …      Saldırganın gece kulübünde saklandığı iddia ediliyor   —   Habertürk TV (@HaberturkTV) \n"
          ]
        }
      ]
    },
    {
      "cell_type": "code",
      "metadata": {
        "colab": {
          "base_uri": "https://localhost:8080/"
        },
        "id": "1C8CcA591Aek",
        "outputId": "be2b8394-0635-4258-99b2-dfbbe88dbc92"
      },
      "source": [
        "# tfidf vectorizer\n",
        "# from sklearn.feature_extraction.text import TfidfVectorizer,CountVectorizer\n",
        "# from nltk import RegexpTokenizer\n",
        "# tokenizer = RegexpTokenizer(\"[a-z]{2,}\")\n",
        "\n",
        "# # n_s_b.iloc[:,9].values + n_s_p.iloc[:,9].values + n_s_a.iloc[:,9].values + n_s_n.iloc[:,9].values \n",
        "# all_content = df[9].values[1:]\n",
        "# print(type(all_content))\n",
        "# vectorizer = TfidfVectorizer(ngram_range=(1,7) \n",
        "#                                 , min_df = 1\n",
        "#                                 , max_df=1\n",
        "#                                 , tokenizer = tokenizer.tokenize\n",
        "#                                 , max_features=10000\n",
        "#                                 , stop_words=\"english\")\n",
        "# e_All= vectorizer.fit_transform(all_content)\n",
        "# print(df.shape)\n",
        "print(n_s[0])\n",
        "import nltk\n",
        "from nltk.tokenize import word_tokenize, sent_tokenize\n",
        "nltk.download('punkt')\n",
        "tokenized_sent = []\n",
        "if len(n_s) % 2 == 1:\n",
        "    n_s = n_s[1:]\n",
        "    classes_Bias = classes_Bias[1:]\n",
        "# for s in n_s:\n",
        "#     tokenized_sent.append(sent_tokenize(s.lower()))\n",
        "# tokenized_sent = []\n",
        "for s in n_s:\n",
        "    tokenized_sent.append(word_tokenize(s.lower()))\n",
        "print(tokenized_sent[0])\n",
        "print(len(tokenized_sent))"
      ],
      "execution_count": null,
      "outputs": [
        {
          "output_type": "stream",
          "name": "stdout",
          "text": [
            "ISTANBUL  —   An assailant believed to have been dressed in a Santa Claus costume opened fire at a nightclub in Istanbul during New Year’s celebrations Saturday, killing at least 35 people and wounding 40 others in what the city’s governor described as a terror attack. Gov. Vasip Sahin said the attacker, armed with a   weapon, killed a policeman and a civilian outside the club before entering and firing on people partying inside. He did not say who may have carried out what he called a “terror attack. ” “Unfortunately (he) rained bullets in a very cruel and merciless way on innocent people who were there to celebrate New Year’s and have fun,” Sahin told reporters. Media reports said the assailant entered the popular Reina nightclub, in Istanbul’s Ortakoy district, at 1:45 am, dressed in a Santa Claus costume. There were more than 500 people inside the club at the time, private NTV television reported. Some customers jumped into the waters of the Bosporus to escape the attack, the report said. NTV television said the assailant may still be inside the nightclub. Footage from the scene showed at least six ambulances with flashing lights and civilians being escorted out. NTV said police had cordoned off the area and an operation to capture the assailant was ongoing. An AP photographer said police cordoned off the area about 2 miles (3 kilometers) away from the nightclub and reported multiple ambulances passing by.  Security measures had been heightened in major Turkish cities, with police barring traffic leading up to key squares in Istanbul and the capital Ankara. In Istanbul, 17, 000 police officers were put on duty, some camouflaged as Santa Claus and others as street vendors, state news agency Anadolu reported.  Ankara and Istanbul have been targeted by several attacks in 2016 carried out by the Islamic State group or Kurdish rebels, killing more than 180 people. ’da silahlı saldırı  …      Saldırganın gece kulübünde saklandığı iddia ediliyor   —   Habertürk TV (@HaberturkTV) \n",
            "[nltk_data] Downloading package punkt to /root/nltk_data...\n",
            "[nltk_data]   Package punkt is already up-to-date!\n",
            "['a', 'midnight', 'blackout', 'of', 'nbc', 'on', 'local', 'cable', 'screens', 'has', 'been', 'averted', '.', 'charter', 'communications', 'and', 'saturday', 'night', 'extended', 'the', 'deadline', 'for', 'talks', 'involving', 'the', 'fees', 'the', 'cable', 'company', 'pays', 'to', 'carry', 'the', 'programs', '.', 'about', '1', 'million', 'people', 'in', 'the', 'metropolitan', 'area', 'subscribe', 'to', 'charter', '—', 'which', 'took', 'over', 'time', 'warner', 'cable', 'and', 'renamed', 'it', 'spectrum', '.', 'nbc', 'announced', 'the', 'extension', 'but', 'did', 'not', 'say', 'how', 'long', 'the', 'clock', 'would', 'be', 'stopped', '.', 'nationally', 'about', '16', 'million', 'people', 'who', 'subscribe', 'to', 'charter', 'would', 'be', 'affected', 'by', 'a', 'blackout', '.']\n",
            "9762\n"
          ]
        }
      ]
    },
    {
      "cell_type": "code",
      "metadata": {
        "colab": {
          "base_uri": "https://localhost:8080/"
        },
        "id": "wakJhJ3ivGgC",
        "outputId": "f3247fe5-b18a-4fbc-a1d3-dbc432c07921"
      },
      "source": [
        "!pip install sentence-transformers"
      ],
      "execution_count": null,
      "outputs": [
        {
          "output_type": "stream",
          "name": "stdout",
          "text": [
            "Requirement already satisfied: sentence-transformers in /usr/local/lib/python3.7/dist-packages (2.1.0)\n",
            "Requirement already satisfied: tokenizers>=0.10.3 in /usr/local/lib/python3.7/dist-packages (from sentence-transformers) (0.10.3)\n",
            "Requirement already satisfied: nltk in /usr/local/lib/python3.7/dist-packages (from sentence-transformers) (3.2.5)\n",
            "Requirement already satisfied: transformers<5.0.0,>=4.6.0 in /usr/local/lib/python3.7/dist-packages (from sentence-transformers) (4.12.5)\n",
            "Requirement already satisfied: sentencepiece in /usr/local/lib/python3.7/dist-packages (from sentence-transformers) (0.1.96)\n",
            "Requirement already satisfied: huggingface-hub in /usr/local/lib/python3.7/dist-packages (from sentence-transformers) (0.2.1)\n",
            "Requirement already satisfied: tqdm in /usr/local/lib/python3.7/dist-packages (from sentence-transformers) (4.62.3)\n",
            "Requirement already satisfied: torch>=1.6.0 in /usr/local/lib/python3.7/dist-packages (from sentence-transformers) (1.10.0+cu111)\n",
            "Requirement already satisfied: scipy in /usr/local/lib/python3.7/dist-packages (from sentence-transformers) (1.4.1)\n",
            "Requirement already satisfied: numpy in /usr/local/lib/python3.7/dist-packages (from sentence-transformers) (1.19.5)\n",
            "Requirement already satisfied: torchvision in /usr/local/lib/python3.7/dist-packages (from sentence-transformers) (0.11.1+cu111)\n",
            "Requirement already satisfied: scikit-learn in /usr/local/lib/python3.7/dist-packages (from sentence-transformers) (1.0.1)\n",
            "Requirement already satisfied: typing-extensions in /usr/local/lib/python3.7/dist-packages (from torch>=1.6.0->sentence-transformers) (3.10.0.2)\n",
            "Requirement already satisfied: packaging>=20.0 in /usr/local/lib/python3.7/dist-packages (from transformers<5.0.0,>=4.6.0->sentence-transformers) (21.3)\n",
            "Requirement already satisfied: regex!=2019.12.17 in /usr/local/lib/python3.7/dist-packages (from transformers<5.0.0,>=4.6.0->sentence-transformers) (2019.12.20)\n",
            "Requirement already satisfied: importlib-metadata in /usr/local/lib/python3.7/dist-packages (from transformers<5.0.0,>=4.6.0->sentence-transformers) (4.8.2)\n",
            "Requirement already satisfied: requests in /usr/local/lib/python3.7/dist-packages (from transformers<5.0.0,>=4.6.0->sentence-transformers) (2.23.0)\n",
            "Requirement already satisfied: filelock in /usr/local/lib/python3.7/dist-packages (from transformers<5.0.0,>=4.6.0->sentence-transformers) (3.4.0)\n",
            "Requirement already satisfied: sacremoses in /usr/local/lib/python3.7/dist-packages (from transformers<5.0.0,>=4.6.0->sentence-transformers) (0.0.46)\n",
            "Requirement already satisfied: pyyaml>=5.1 in /usr/local/lib/python3.7/dist-packages (from transformers<5.0.0,>=4.6.0->sentence-transformers) (6.0)\n",
            "Requirement already satisfied: pyparsing!=3.0.5,>=2.0.2 in /usr/local/lib/python3.7/dist-packages (from packaging>=20.0->transformers<5.0.0,>=4.6.0->sentence-transformers) (3.0.6)\n",
            "Requirement already satisfied: zipp>=0.5 in /usr/local/lib/python3.7/dist-packages (from importlib-metadata->transformers<5.0.0,>=4.6.0->sentence-transformers) (3.6.0)\n",
            "Requirement already satisfied: six in /usr/local/lib/python3.7/dist-packages (from nltk->sentence-transformers) (1.15.0)\n",
            "Requirement already satisfied: chardet<4,>=3.0.2 in /usr/local/lib/python3.7/dist-packages (from requests->transformers<5.0.0,>=4.6.0->sentence-transformers) (3.0.4)\n",
            "Requirement already satisfied: certifi>=2017.4.17 in /usr/local/lib/python3.7/dist-packages (from requests->transformers<5.0.0,>=4.6.0->sentence-transformers) (2021.10.8)\n",
            "Requirement already satisfied: urllib3!=1.25.0,!=1.25.1,<1.26,>=1.21.1 in /usr/local/lib/python3.7/dist-packages (from requests->transformers<5.0.0,>=4.6.0->sentence-transformers) (1.24.3)\n",
            "Requirement already satisfied: idna<3,>=2.5 in /usr/local/lib/python3.7/dist-packages (from requests->transformers<5.0.0,>=4.6.0->sentence-transformers) (2.10)\n",
            "Requirement already satisfied: click in /usr/local/lib/python3.7/dist-packages (from sacremoses->transformers<5.0.0,>=4.6.0->sentence-transformers) (7.1.2)\n",
            "Requirement already satisfied: joblib in /usr/local/lib/python3.7/dist-packages (from sacremoses->transformers<5.0.0,>=4.6.0->sentence-transformers) (1.1.0)\n",
            "Requirement already satisfied: threadpoolctl>=2.0.0 in /usr/local/lib/python3.7/dist-packages (from scikit-learn->sentence-transformers) (3.0.0)\n",
            "Requirement already satisfied: pillow!=8.3.0,>=5.3.0 in /usr/local/lib/python3.7/dist-packages (from torchvision->sentence-transformers) (7.1.2)\n"
          ]
        }
      ]
    },
    {
      "cell_type": "code",
      "source": [
        "print(len(max(n_s)))"
      ],
      "metadata": {
        "colab": {
          "base_uri": "https://localhost:8080/"
        },
        "id": "8BDRaIR8JCq3",
        "outputId": "62c009eb-e834-4b96-cda2-ca42bb8c1424"
      },
      "execution_count": null,
      "outputs": [
        {
          "output_type": "stream",
          "name": "stdout",
          "text": [
            "8580\n"
          ]
        }
      ]
    },
    {
      "cell_type": "code",
      "metadata": {
        "id": "V5WoF1u-vJwj"
      },
      "source": [
        "from sentence_transformers import SentenceTransformer\n",
        "sbert_model = SentenceTransformer('nli-bert-base')\n",
        "\n",
        "sentence_embeddings = sbert_model.encode(tokenized_sent)\n"
      ],
      "execution_count": null,
      "outputs": []
    },
    {
      "cell_type": "code",
      "metadata": {
        "colab": {
          "base_uri": "https://localhost:8080/"
        },
        "id": "2L2D4ZPw2FWd",
        "outputId": "583e5b23-181d-4349-d234-d5332097b6fb"
      },
      "source": [
        "# print(type(e_All))\n",
        "# print(e_All.shape)\n",
        "# print(e_All)\n",
        "# print(len(classes_All))\n",
        "# e_All.todense()\n",
        "# print(type(e_All))\n",
        "# print(e_All.shape)\n",
        "print(sentence_embeddings[0])\n",
        "print(type(sentence_embeddings))\n",
        "print(sentence_embeddings.shape)"
      ],
      "execution_count": null,
      "outputs": [
        {
          "output_type": "stream",
          "name": "stdout",
          "text": [
            "[ 8.10996518e-02 -5.47893822e-01  1.92805362e+00  3.81115854e-01\n",
            "  5.86899638e-01  8.01326782e-02 -5.08915372e-02  4.83144134e-01\n",
            "  2.45196819e-01  1.09903011e-02 -3.53559345e-01  4.05636966e-01\n",
            "  2.78064549e-01  5.62138915e-01  1.15681565e+00 -8.09862763e-02\n",
            " -1.08686306e-01 -4.68305409e-01 -4.25148189e-01 -1.02251184e+00\n",
            "  4.03789431e-01  4.50325072e-01  2.26372153e-01 -9.34358478e-01\n",
            " -1.33754373e-01 -6.82656884e-01 -5.25530636e-01 -1.25113034e+00\n",
            " -3.55922908e-01  4.57767963e-01 -3.43807518e-01  1.87217638e-01\n",
            "  9.04111862e-02  6.64916560e-02  5.35626709e-01  1.59702033e-01\n",
            " -3.48248541e-01  7.20397010e-02  1.85384810e-01 -2.82648295e-01\n",
            "  1.42276430e+00  9.40239578e-02  4.15847152e-01 -2.99789339e-01\n",
            " -1.26842809e+00  3.39319289e-01  2.98294604e-01 -3.44704300e-01\n",
            "  3.60839903e-01 -2.23960328e+00  2.58696862e-02  6.90049538e-03\n",
            "  1.34619904e+00  1.02744639e+00 -4.27791655e-01  1.29339784e-01\n",
            "  4.02560651e-01 -3.77488166e-01  3.63939643e-01  8.73955727e-01\n",
            "  2.95883238e-01 -6.42059267e-01  1.95497856e-01  7.48801053e-01\n",
            " -6.22896850e-01  7.74437428e-01  4.82086718e-01  1.92302652e-02\n",
            " -4.89241034e-01  3.97554576e-01  7.22512603e-01 -2.05023773e-02\n",
            " -2.94401258e-01  2.00639561e-01 -1.07484043e+00 -7.86194056e-02\n",
            "  3.06837797e-01  2.11466745e-01  1.10287249e+00  5.33194661e-01\n",
            "  5.94373882e-01  8.39522257e-02  1.75872970e+00  1.55549496e-01\n",
            " -5.34501135e-01  9.46739689e-02 -3.21000442e-02 -4.41639245e-01\n",
            " -9.00509834e-01 -3.83137286e-01 -5.12301922e-02  2.92021986e-02\n",
            "  2.06218436e-01  4.24481779e-01 -1.08873630e+00 -4.52296168e-01\n",
            "  2.13990256e-01 -3.49469781e-01 -2.40337133e-01 -3.85103047e-01\n",
            " -9.99555364e-02 -2.09559232e-01  1.20773576e-01  4.60738361e-01\n",
            " -1.54541239e-01  3.32410276e-01 -6.45771563e-01  2.84051955e-01\n",
            "  5.01639664e-01 -1.92248076e-01 -6.22293353e-01  2.15622097e-01\n",
            "  8.49096179e-01  4.33126688e-02 -4.67541546e-01 -7.56730258e-01\n",
            " -5.58189750e-01  1.22799553e-01  2.37839252e-01  6.31140590e-01\n",
            "  2.30897516e-01  4.53733116e-01  4.70112979e-01 -9.67037678e-02\n",
            "  1.03394970e-01  8.71245116e-02  8.97466302e-01 -5.73139846e-01\n",
            " -5.59501410e-01 -1.49845794e-01 -2.36828968e-01  9.04675663e-01\n",
            " -7.84423351e-01 -8.41346458e-02  2.25202754e-01 -2.59456158e-01\n",
            " -1.07750572e-01 -1.15409140e-02  2.69402325e-01  5.99312298e-02\n",
            " -6.44933522e-01  2.57779628e-01 -9.84517217e-01  3.31067324e-01\n",
            " -4.32808727e-01 -5.59177041e-01 -3.29401195e-01 -7.92329907e-01\n",
            " -5.02736345e-02  6.97365403e-01 -3.47345531e-01  7.73748755e-01\n",
            " -6.63920879e-01 -1.12849019e-01 -8.33908260e-01 -1.52329612e+00\n",
            "  1.53118283e-01  5.79715490e-01 -1.00196242e-01 -2.25722820e-01\n",
            " -4.23183024e-01  3.97748202e-01  5.03535688e-01 -1.30697146e-01\n",
            "  2.47966528e-01  9.42855328e-02 -5.08241653e-02  2.28798509e-01\n",
            "  7.07712293e-01  4.01330963e-02  6.35181785e-01 -6.28378272e-01\n",
            "  3.10545385e-01  2.22894102e-01 -7.37521470e-01  9.26164329e-01\n",
            "  3.68249208e-01  4.03383255e-01  4.20118049e-02 -4.98657003e-02\n",
            " -1.06402600e+00 -1.40991241e-01  1.12622678e+00 -6.71097636e-01\n",
            " -6.65490150e-01 -4.21336651e-01 -3.38573158e-01  8.67656469e-02\n",
            " -3.31040360e-02  4.36677843e-01 -5.65896451e-01 -3.92527103e-01\n",
            "  2.33883500e-01 -3.80103290e-01 -3.30353141e-01 -5.74093223e-01\n",
            "  3.35878074e-01  2.30942771e-01  2.71122992e-01 -2.04835180e-02\n",
            "  9.54425991e-01 -1.25654888e+00  4.83307749e-01 -1.28012806e-01\n",
            "  1.07111967e+00  1.49476385e+00 -4.52339649e-01  1.98339626e-01\n",
            "  8.99583399e-02 -1.75832897e-01 -7.22830057e-01 -4.08280075e-01\n",
            "  5.12646377e-01  3.07886064e-01  5.74044764e-01 -4.18657959e-01\n",
            "  4.10109818e-01 -3.58771652e-01 -5.59755445e-01  4.66118097e-01\n",
            " -1.21251486e-01  4.12529945e-01  7.87793279e-01  3.05150658e-01\n",
            " -1.07301414e+00  9.07323003e-01 -3.04876212e-02 -5.14572740e-01\n",
            " -2.45432764e-01 -1.22283769e+00  2.10087448e-01 -5.13557076e-01\n",
            " -1.18532157e+00  5.09135664e-01  2.89778262e-01 -1.31983752e-03\n",
            " -7.10081697e-01 -4.35532868e-01  7.97555894e-02 -2.68641949e-01\n",
            "  2.16979817e-01  4.61416394e-01  8.15900981e-01  9.06994700e-01\n",
            " -1.26020932e+00  1.90717667e-01  2.21240848e-01 -3.67086560e-01\n",
            " -3.14243942e-01  7.52346516e-01  4.01625723e-01 -9.96810257e-01\n",
            " -3.60014066e-02 -1.74766988e-01 -6.26019001e-01 -6.26339376e-01\n",
            " -1.94429621e-01 -4.68435675e-01 -1.25191197e-01 -3.07912439e-01\n",
            " -6.11756802e-01 -2.25918502e-01  8.19788635e-01 -4.10935014e-01\n",
            "  1.23034537e-01 -7.35948235e-02 -2.36927956e-01 -3.96397591e-01\n",
            " -1.18865654e-01  2.17518285e-01 -2.78702170e-01 -3.30966592e-01\n",
            " -2.00602263e-01 -9.04723763e-01 -4.06942189e-01 -5.20494103e-01\n",
            "  5.93070626e-01  1.08735815e-01 -8.11383724e-01  3.52190256e-01\n",
            "  2.60422170e-01  4.52091128e-01 -1.28350735e+00  3.50207925e-01\n",
            " -4.84567225e-01  8.57989788e-02  6.48184001e-01 -3.03862870e-01\n",
            " -1.39036804e-01 -1.30778447e-01 -2.47737139e-01  5.16121745e-01\n",
            "  2.70220309e-01 -8.61196041e-01  4.33608383e-01 -2.07546666e-01\n",
            "  2.61010975e-01 -3.79708827e-01 -5.76454341e-01  3.15782845e-01\n",
            " -3.82561125e-02 -1.09123036e-01 -6.79044664e-01  2.11570803e-02\n",
            " -6.25496060e-02 -9.39078510e-01 -5.96060276e-01  4.26007450e-01\n",
            " -2.28675222e+00  4.92836326e-01 -1.41977072e+00  8.56421664e-02\n",
            "  1.56840190e-01  5.04316866e-01  8.86196792e-01  6.51267231e-01\n",
            " -5.37496209e-01 -2.20313981e-01  1.80123836e-01 -5.90142787e-01\n",
            " -4.09365565e-01  5.16687512e-01 -1.12379178e-01 -9.25935879e-02\n",
            " -3.55527967e-01 -8.83116648e-02  1.61821976e-01  3.48159850e-01\n",
            " -3.91808361e-01 -1.20461658e-01  4.58033711e-01 -1.16998696e+00\n",
            "  6.43330395e-01  6.97812289e-02 -2.41735369e-01  9.38679695e-01\n",
            " -2.70192437e-02 -8.84432122e-02  4.22714412e-01 -7.33357072e-02\n",
            " -1.17107168e-01 -4.87761736e-01  3.46882045e-01 -5.39822690e-02\n",
            "  1.35187912e+00 -7.75285006e-01 -3.89818966e-01  1.90627426e-01\n",
            " -2.97998399e-01  2.83572972e-01 -3.62159669e-01  7.49626279e-01\n",
            "  6.01595759e-01  3.77993643e-01 -1.77368477e-01 -6.32391870e-01\n",
            "  6.23260923e-02 -3.71592313e-01 -3.99960220e-01  4.27033901e-01\n",
            " -2.78347105e-01 -1.19766042e-01 -3.18192095e-01  2.15434432e-01\n",
            " -6.50498748e-01 -2.03377083e-01  7.58890986e-01  1.77116230e-01\n",
            "  8.26542020e-01  1.47842288e-01  5.64257860e-01  4.05386031e-01\n",
            " -6.93758965e-01  6.47551179e-01  1.97594330e-01  1.79513209e-02\n",
            "  1.05015016e+00 -4.17807162e-01 -1.66647986e-01 -1.15155506e+00\n",
            "  6.70955122e-01 -9.78575408e-01 -8.03049468e-03  1.59025677e-02\n",
            "  3.46337289e-01  4.32530552e-01  5.36872633e-02 -8.36597800e-01\n",
            "  3.93329650e-01  1.94296911e-01  7.24813879e-01  6.35859132e-01\n",
            "  4.53695863e-01 -1.58705845e-01 -3.23237270e-01 -7.42182851e-01\n",
            "  5.92774034e-01  5.89316785e-01 -4.85294342e-01 -1.08965918e-01\n",
            " -5.12103215e-02  6.02076724e-02  3.11366357e-02  8.01990688e-01\n",
            " -9.70165730e-02 -4.52815881e-03 -1.40850127e-01  4.88094389e-01\n",
            " -4.59015459e-01 -7.69392371e-01 -3.78689587e-01  3.15583289e-01\n",
            " -8.96674991e-01 -5.94009042e-01 -4.55075085e-01  1.05041051e+00\n",
            " -2.98439443e-01 -5.75762630e-01  4.75988060e-01  8.15587342e-01\n",
            " -3.84085715e-01 -8.86126399e-01 -2.02936456e-01 -8.43834698e-01\n",
            " -5.21168828e-01  5.41717350e-01  1.09882928e-01  3.26995194e-01\n",
            " -8.95636559e-01 -4.37069893e-01 -3.11077416e-01  4.94770825e-01\n",
            " -1.26056397e+00  4.29819584e-01 -1.22535124e-01 -1.07921910e+00\n",
            "  2.30796486e-01  7.84529969e-02 -4.69869137e-01  1.76646486e-01\n",
            "  4.66211140e-01 -1.44709706e-01 -7.14080215e-01 -2.91085541e-01\n",
            " -4.28430378e-01 -5.39240181e-01  1.29953295e-01  3.31704430e-02\n",
            "  2.58586053e-02 -4.06488091e-01  6.84010386e-02  9.47152495e-01\n",
            "  9.60596681e-01  6.05553210e-01  9.27047551e-01 -3.03988785e-01\n",
            " -3.64711195e-01  7.13486075e-01  9.41483855e-01 -6.04540050e-01\n",
            "  3.88438880e-01 -1.15573384e-01 -9.25037026e-01  2.75687456e-01\n",
            "  4.38825458e-01  4.58500870e-02 -8.16903114e-01  4.45797205e-01\n",
            " -4.24723059e-01  2.17077494e-01 -1.44964606e-01 -1.68936819e-01\n",
            "  5.71174979e-01 -1.69415064e-02 -1.08887352e-01  8.42348754e-01\n",
            " -1.55851436e+00 -8.09568390e-02 -2.58070111e-01  3.20133388e-01\n",
            "  7.46982932e-01  1.02271581e+00 -5.80664575e-02 -8.62463564e-02\n",
            " -6.61687851e-01  1.05430380e-01 -1.45152807e-01 -1.61045883e-02\n",
            "  7.90401340e-01  1.12974867e-01 -9.59720910e-01 -6.30597472e-01\n",
            " -8.22636962e-01 -4.64351237e-01 -4.90427107e-01  3.11169744e-01\n",
            " -1.40793830e-01  5.36388516e-01  3.37400377e-01 -1.15279421e-01\n",
            "  1.31437555e-01  2.31495410e-01 -3.42376009e-02 -9.51877594e-01\n",
            "  5.77544808e-01  1.16604066e+00 -1.02913119e-01  6.10169768e-01\n",
            "  7.00376689e-01  3.48612100e-01 -3.62479270e-01  1.03201544e+00\n",
            " -1.63133472e-01  4.33435328e-02 -5.92612147e-01 -9.34348464e-01\n",
            "  4.92685407e-01 -3.02408040e-02  7.67635942e-01 -4.14383471e-01\n",
            "  3.45882237e-01  2.53255274e-02  3.22833955e-01  5.65746546e-01\n",
            "  5.73891759e-01 -1.09712854e-01  1.92741975e-01 -2.00927779e-01\n",
            "  3.21895957e-01  2.81303257e-01 -9.10965577e-02 -1.06607951e-01\n",
            "  2.78050601e-01  6.28233477e-02  7.75990367e-01 -4.42382723e-01\n",
            "  2.35670686e-01 -4.39791769e-01 -4.04333502e-01  3.87169600e-01\n",
            "  1.79414839e-01  1.17322899e-01  3.89205307e-01 -4.30241734e-01\n",
            " -9.58008468e-01 -3.95835906e-01 -7.84758687e-01 -1.76081918e-02\n",
            " -7.11152609e-03 -8.25129509e-01  2.03175992e-01  1.35782570e-01\n",
            " -7.92747021e-01 -3.81003082e-01  4.09863412e-01 -6.27176762e-01\n",
            " -7.64268786e-02  7.05506444e-01 -2.33421251e-01 -9.52699482e-01\n",
            "  6.44934177e-02  2.62427896e-01 -2.13719800e-01  1.26625627e-01\n",
            "  1.92160040e-01  3.74755144e-01  1.60822898e-01 -1.83525637e-01\n",
            " -1.35707229e-01 -7.93362737e-01  1.01357795e-01 -7.59097695e-01\n",
            "  4.48783524e-02  1.07844496e+00 -5.66594720e-01  2.65978366e-01\n",
            "  6.26161933e-01  2.12124422e-01 -6.81036353e-01  3.35728198e-01\n",
            "  5.06287694e-01  4.34874833e-01  2.18912527e-01 -5.04609287e-01\n",
            "  2.45882627e-02  5.46790183e-01 -4.80306447e-01 -3.84876907e-01\n",
            "  4.22972530e-01  1.32012868e+00  5.76328695e-01 -1.67646915e-01\n",
            "  1.33621290e-01 -4.07309055e-01  1.11574009e-01 -2.46798322e-01\n",
            " -5.97602963e-01 -1.98302865e-01  9.44129080e-02 -1.38433903e-01\n",
            "  2.03916833e-01  3.28138679e-01 -4.52366501e-01  9.09074962e-01\n",
            " -1.45327002e-01  2.82998383e-01  3.90206993e-01  5.27205765e-01\n",
            " -3.99652421e-01  3.20089191e-01  3.13871145e-01 -5.03226459e-01\n",
            " -4.04824346e-01 -3.84314477e-01  1.28811523e-01 -5.12397408e-01\n",
            "  3.64386663e-02 -1.05131425e-01  1.20198274e+00  7.46910393e-01\n",
            " -5.77384830e-02  5.37528396e-01  5.13310254e-01 -3.41619402e-02\n",
            "  4.44597244e-01 -4.42594618e-01  9.50202495e-02 -8.41003880e-02\n",
            " -3.67210478e-01  6.83345973e-01  5.28350532e-01  5.72098434e-01\n",
            " -4.81459275e-02  1.44196078e-01 -2.58175969e-01  1.25858068e+00\n",
            "  1.60556361e-01  9.09005105e-02  2.29448885e-01 -1.15165494e-01\n",
            "  3.12641263e-03 -3.99990141e-01  7.08171800e-02 -1.23204373e-01\n",
            "  4.46747005e-01 -7.01739669e-01 -3.10191453e-01  7.01458275e-01\n",
            "  1.48252273e+00  8.61217976e-01  1.71467334e-01 -5.51809430e-01\n",
            " -1.64502099e-01 -1.31311968e-01  3.26439083e-01 -4.79008198e-01\n",
            " -2.89143950e-01  2.08710268e-01 -7.62554944e-01 -8.38399112e-01\n",
            "  3.02579068e-02 -8.59244645e-01  5.87191403e-01  1.99435517e-01\n",
            "  2.25046277e-01  6.28113568e-01 -1.54179931e-01 -8.60492826e-01\n",
            " -3.78245533e-01 -9.59696770e-02  3.63820583e-01  2.64129676e-02\n",
            " -2.77650505e-01 -1.08360517e+00 -3.27059120e-01 -5.21374047e-01\n",
            "  5.95440269e-01 -4.43379968e-01  4.78811115e-01 -4.14266437e-01\n",
            "  6.80027068e-01  4.59029377e-01 -3.13670337e-01 -6.84284568e-01\n",
            "  6.40468121e-01  2.04537123e-01  4.74620283e-01 -2.81468928e-01\n",
            " -8.09002280e-01 -1.02237594e+00  8.94988537e-01  2.53447980e-01\n",
            "  7.01142192e-01 -1.17014682e+00  1.39796764e-01  2.93068767e-01\n",
            " -1.14512503e-01 -1.33661509e-01  5.99361777e-01 -6.55400932e-01\n",
            " -4.48031485e-01 -6.63900614e-01 -1.24856913e+00  1.52549833e-01\n",
            " -5.43042243e-01 -2.16547102e-01 -1.19615817e+00  2.87002176e-01\n",
            "  2.93146789e-01  3.32217336e-01  4.07156795e-01  4.18193251e-01\n",
            " -2.22764820e-01  7.33700454e-01 -4.43732560e-01  1.59468532e+00\n",
            " -3.94341052e-01  3.77190143e-01  7.22964704e-01 -4.01974916e-01\n",
            " -4.39500988e-01  5.54493248e-01 -6.85893372e-02 -1.54520422e-01\n",
            " -8.36800873e-01 -3.56785476e-01 -6.58805847e-01 -1.96214199e-01\n",
            " -4.11300093e-01 -7.22939134e-01 -3.81445944e-01  9.06537920e-02\n",
            " -9.07675266e-01  2.29266167e-01  4.54315484e-01 -3.98573428e-01\n",
            "  4.57544953e-01  3.48214239e-01 -5.58687568e-01  1.33260906e-01\n",
            " -7.95550644e-04 -2.97831446e-01  5.27671278e-01 -1.96910441e-01\n",
            "  3.82456422e-01 -3.40712041e-01  4.81095135e-01  4.51153755e-01\n",
            " -1.73826128e-01  7.29902625e-01 -6.56056285e-01  3.56424272e-01\n",
            " -7.43356764e-01 -8.17714691e-01 -3.09173286e-01 -6.77765548e-01\n",
            " -4.30809170e-01  3.76271665e-01  3.02684188e-01 -4.11246538e-01\n",
            "  6.97079301e-01  3.59933257e-01 -3.20264041e-01 -8.46033454e-01\n",
            "  3.88971120e-01 -1.28592253e-01  4.06221449e-01 -1.28333613e-01]\n",
            "<class 'numpy.ndarray'>\n",
            "(9762, 768)\n"
          ]
        }
      ]
    },
    {
      "cell_type": "code",
      "metadata": {
        "colab": {
          "base_uri": "https://localhost:8080/"
        },
        "id": "AuyGHa3A50bO",
        "outputId": "2c83a8b6-9eaa-4656-bc66-80c833b88f5d"
      },
      "source": [
        "optim = tf.keras.optimizers.Adam(lr=0.00015)\n",
        "from tensorflow.keras.layers import Input\n",
        "\n",
        "\n",
        "# create NN for news clissification:\n",
        "news_DNN = Sequential()\n",
        "news_DNN.add(Input(shape=(768,)))\n",
        "news_DNN.add(Dense(40, activation = 'relu',kernel_regularizer=l2(0.1)))\n",
        "news_DNN.add(Dropout(0.25))\n",
        "news_DNN.add(Dense(40, activation = 'relu',kernel_regularizer=l2(0.1)))\n",
        "news_DNN.add(Dropout(0.25))\n",
        "\n",
        "\n",
        "# Output layer with multiclass activation function:\n",
        "news_DNN.add(Dense(4,activation='softmax'))\n",
        "\n",
        "# Compile model:\n",
        "news_DNN.compile(loss='sparse_categorical_crossentropy', optimizer=optim, metrics=['acc'])\n",
        "\n",
        "news_DNN.summary()"
      ],
      "execution_count": null,
      "outputs": [
        {
          "output_type": "stream",
          "name": "stdout",
          "text": [
            "Model: \"sequential_1\"\n",
            "_________________________________________________________________\n",
            " Layer (type)                Output Shape              Param #   \n",
            "=================================================================\n",
            " dense_3 (Dense)             (None, 40)                30760     \n",
            "                                                                 \n",
            " dropout_2 (Dropout)         (None, 40)                0         \n",
            "                                                                 \n",
            " dense_4 (Dense)             (None, 40)                1640      \n",
            "                                                                 \n",
            " dropout_3 (Dropout)         (None, 40)                0         \n",
            "                                                                 \n",
            " dense_5 (Dense)             (None, 4)                 164       \n",
            "                                                                 \n",
            "=================================================================\n",
            "Total params: 32,564\n",
            "Trainable params: 32,564\n",
            "Non-trainable params: 0\n",
            "_________________________________________________________________\n"
          ]
        },
        {
          "output_type": "stream",
          "name": "stderr",
          "text": [
            "/usr/local/lib/python3.7/dist-packages/keras/optimizer_v2/adam.py:105: UserWarning: The `lr` argument is deprecated, use `learning_rate` instead.\n",
            "  super(Adam, self).__init__(name, **kwargs)\n"
          ]
        }
      ]
    },
    {
      "cell_type": "code",
      "metadata": {
        "id": "mhb2Hudp6xTf"
      },
      "source": [
        "# split into shuffled folds:\n",
        "#Note that you should edit the class array accordingly: Bias (classes_Bias) or Outlet (classes_All)\n",
        "sss = StratifiedShuffleSplit(n_splits=1, test_size=0.33) # chose one split to make analysis faster. change it if required\n",
        "scaler = StandardScaler(with_mean=False)\n",
        "#classes_Bias = classes_Bias[1:]\n",
        "for t, te in sss.split(sentence_embeddings,classes_Bias):\n",
        "  # Scale the data with StandardScaler before splitting:\n",
        "    X_train, X_test = scaler.fit_transform(sentence_embeddings)[t], \\\n",
        "    scaler.fit_transform(sentence_embeddings)[te]\n",
        "\n",
        "    y_train, y_test = classes_All[t]-1,classes_All[te]-1"
      ],
      "execution_count": null,
      "outputs": []
    },
    {
      "cell_type": "code",
      "metadata": {
        "colab": {
          "base_uri": "https://localhost:8080/"
        },
        "id": "1Sv2V4MgdeVW",
        "outputId": "a932a8df-35c9-4126-92ae-f0ffed08596f"
      },
      "source": [
        "print(X_train.shape, y_train.shape)"
      ],
      "execution_count": null,
      "outputs": [
        {
          "output_type": "stream",
          "name": "stdout",
          "text": [
            "(6540, 768) (6540,)\n"
          ]
        }
      ]
    },
    {
      "cell_type": "code",
      "metadata": {
        "colab": {
          "base_uri": "https://localhost:8080/"
        },
        "id": "DcRzH8Rncp9a",
        "outputId": "c458d71e-de86-4fdc-9ca5-20b58261d3d4"
      },
      "source": [
        "#Fitting the model\n",
        "#fit the network. You can change parameters to see how this affects your training.\n",
        "m_h = news_DNN.fit(X_train, y_train, epochs=100, \\\n",
        "validation_data=(X_test, y_test), batch_size=32)"
      ],
      "execution_count": null,
      "outputs": [
        {
          "output_type": "stream",
          "name": "stdout",
          "text": [
            "Train on 6540 samples, validate on 3222 samples\n",
            "Epoch 1/100\n",
            "6240/6540 [===========================>..] - ETA: 0s - loss: 11.0489 - acc: 0.6186"
          ]
        },
        {
          "output_type": "stream",
          "name": "stderr",
          "text": [
            "/usr/local/lib/python3.7/dist-packages/keras/engine/training_v1.py:2057: UserWarning: `Model.state_updates` will be removed in a future version. This property should not be used in TensorFlow 2.0, as `updates` are applied automatically.\n",
            "  updates = self.state_updates\n"
          ]
        },
        {
          "output_type": "stream",
          "name": "stdout",
          "text": [
            "6540/6540 [==============================] - 1s 141us/sample - loss: 10.9542 - acc: 0.6232 - val_loss: 8.7647 - val_acc: 0.8343\n",
            "Epoch 2/100\n",
            "6540/6540 [==============================] - 1s 120us/sample - loss: 7.4560 - acc: 0.7517 - val_loss: 6.0366 - val_acc: 0.8392\n",
            "Epoch 3/100\n",
            "6540/6540 [==============================] - 1s 126us/sample - loss: 5.2049 - acc: 0.7894 - val_loss: 4.2594 - val_acc: 0.8541\n",
            "Epoch 4/100\n",
            "6540/6540 [==============================] - 1s 122us/sample - loss: 3.7053 - acc: 0.8142 - val_loss: 3.0773 - val_acc: 0.8470\n",
            "Epoch 5/100\n",
            "6540/6540 [==============================] - 1s 122us/sample - loss: 2.7269 - acc: 0.8223 - val_loss: 2.2879 - val_acc: 0.8547\n",
            "Epoch 6/100\n",
            "6540/6540 [==============================] - 1s 122us/sample - loss: 2.0494 - acc: 0.8381 - val_loss: 1.7252 - val_acc: 0.8523\n",
            "Epoch 7/100\n",
            "6540/6540 [==============================] - 1s 122us/sample - loss: 1.5761 - acc: 0.8394 - val_loss: 1.3488 - val_acc: 0.8569\n",
            "Epoch 8/100\n",
            "6540/6540 [==============================] - 1s 118us/sample - loss: 1.2499 - acc: 0.8472 - val_loss: 1.0816 - val_acc: 0.8551\n",
            "Epoch 9/100\n",
            "6540/6540 [==============================] - 1s 121us/sample - loss: 1.0230 - acc: 0.8469 - val_loss: 0.8941 - val_acc: 0.8560\n",
            "Epoch 10/100\n",
            "6540/6540 [==============================] - 1s 119us/sample - loss: 0.8606 - acc: 0.8506 - val_loss: 0.7684 - val_acc: 0.8600\n",
            "Epoch 11/100\n",
            "6540/6540 [==============================] - 1s 121us/sample - loss: 0.7474 - acc: 0.8492 - val_loss: 0.6834 - val_acc: 0.8631\n",
            "Epoch 12/100\n",
            "6540/6540 [==============================] - 1s 122us/sample - loss: 0.6628 - acc: 0.8518 - val_loss: 0.6051 - val_acc: 0.8588\n",
            "Epoch 13/100\n",
            "6540/6540 [==============================] - 1s 122us/sample - loss: 0.6068 - acc: 0.8570 - val_loss: 0.5531 - val_acc: 0.8557\n",
            "Epoch 14/100\n",
            "6540/6540 [==============================] - 1s 118us/sample - loss: 0.5620 - acc: 0.8575 - val_loss: 0.5276 - val_acc: 0.8476\n",
            "Epoch 15/100\n",
            "6540/6540 [==============================] - 1s 118us/sample - loss: 0.5281 - acc: 0.8561 - val_loss: 0.4969 - val_acc: 0.8582\n",
            "Epoch 16/100\n",
            "6540/6540 [==============================] - 1s 123us/sample - loss: 0.5124 - acc: 0.8576 - val_loss: 0.4786 - val_acc: 0.8610\n",
            "Epoch 17/100\n",
            "6540/6540 [==============================] - 1s 122us/sample - loss: 0.4923 - acc: 0.8534 - val_loss: 0.4651 - val_acc: 0.8591\n",
            "Epoch 18/100\n",
            "6540/6540 [==============================] - 1s 122us/sample - loss: 0.4778 - acc: 0.8564 - val_loss: 0.4571 - val_acc: 0.8560\n",
            "Epoch 19/100\n",
            "6540/6540 [==============================] - 1s 120us/sample - loss: 0.4692 - acc: 0.8586 - val_loss: 0.4456 - val_acc: 0.8594\n",
            "Epoch 20/100\n",
            "6540/6540 [==============================] - 1s 120us/sample - loss: 0.4633 - acc: 0.8592 - val_loss: 0.4412 - val_acc: 0.8600\n",
            "Epoch 21/100\n",
            "6540/6540 [==============================] - 1s 123us/sample - loss: 0.4506 - acc: 0.8621 - val_loss: 0.4353 - val_acc: 0.8603\n",
            "Epoch 22/100\n",
            "6540/6540 [==============================] - 1s 122us/sample - loss: 0.4550 - acc: 0.8592 - val_loss: 0.4304 - val_acc: 0.8582\n",
            "Epoch 23/100\n",
            "6540/6540 [==============================] - 1s 120us/sample - loss: 0.4458 - acc: 0.8609 - val_loss: 0.4411 - val_acc: 0.8634\n",
            "Epoch 24/100\n",
            "6540/6540 [==============================] - 1s 122us/sample - loss: 0.4406 - acc: 0.8647 - val_loss: 0.4253 - val_acc: 0.8603\n",
            "Epoch 25/100\n",
            "6540/6540 [==============================] - 1s 122us/sample - loss: 0.4375 - acc: 0.8622 - val_loss: 0.4230 - val_acc: 0.8585\n",
            "Epoch 26/100\n",
            "6540/6540 [==============================] - 1s 121us/sample - loss: 0.4345 - acc: 0.8576 - val_loss: 0.4205 - val_acc: 0.8619\n",
            "Epoch 27/100\n",
            "6540/6540 [==============================] - 1s 124us/sample - loss: 0.4264 - acc: 0.8670 - val_loss: 0.4171 - val_acc: 0.8591\n",
            "Epoch 28/100\n",
            "6540/6540 [==============================] - 1s 122us/sample - loss: 0.4276 - acc: 0.8633 - val_loss: 0.4157 - val_acc: 0.8650\n",
            "Epoch 29/100\n",
            "6540/6540 [==============================] - 1s 127us/sample - loss: 0.4231 - acc: 0.8638 - val_loss: 0.4192 - val_acc: 0.8650\n",
            "Epoch 30/100\n",
            "6540/6540 [==============================] - 1s 124us/sample - loss: 0.4262 - acc: 0.8622 - val_loss: 0.4123 - val_acc: 0.8606\n",
            "Epoch 31/100\n",
            "6540/6540 [==============================] - 1s 128us/sample - loss: 0.4240 - acc: 0.8619 - val_loss: 0.4161 - val_acc: 0.8622\n",
            "Epoch 32/100\n",
            "6540/6540 [==============================] - 1s 127us/sample - loss: 0.4192 - acc: 0.8654 - val_loss: 0.4228 - val_acc: 0.8516\n",
            "Epoch 33/100\n",
            "6540/6540 [==============================] - 1s 127us/sample - loss: 0.4208 - acc: 0.8581 - val_loss: 0.4232 - val_acc: 0.8504\n",
            "Epoch 34/100\n",
            "6540/6540 [==============================] - 1s 126us/sample - loss: 0.4129 - acc: 0.8622 - val_loss: 0.4105 - val_acc: 0.8600\n",
            "Epoch 35/100\n",
            "6540/6540 [==============================] - 1s 126us/sample - loss: 0.4134 - acc: 0.8633 - val_loss: 0.4058 - val_acc: 0.8610\n",
            "Epoch 36/100\n",
            "6540/6540 [==============================] - 1s 129us/sample - loss: 0.4173 - acc: 0.8593 - val_loss: 0.4080 - val_acc: 0.8616\n",
            "Epoch 37/100\n",
            "6540/6540 [==============================] - 1s 128us/sample - loss: 0.4091 - acc: 0.8630 - val_loss: 0.4093 - val_acc: 0.8637\n",
            "Epoch 38/100\n",
            "6540/6540 [==============================] - 1s 128us/sample - loss: 0.4101 - acc: 0.8653 - val_loss: 0.4065 - val_acc: 0.8669\n",
            "Epoch 39/100\n",
            "6540/6540 [==============================] - 1s 129us/sample - loss: 0.4110 - acc: 0.8650 - val_loss: 0.4034 - val_acc: 0.8672\n",
            "Epoch 40/100\n",
            "6540/6540 [==============================] - 1s 126us/sample - loss: 0.4066 - acc: 0.8645 - val_loss: 0.3996 - val_acc: 0.8606\n",
            "Epoch 41/100\n",
            "6540/6540 [==============================] - 1s 125us/sample - loss: 0.4056 - acc: 0.8677 - val_loss: 0.3975 - val_acc: 0.8619\n",
            "Epoch 42/100\n",
            "6540/6540 [==============================] - 1s 123us/sample - loss: 0.4058 - acc: 0.8668 - val_loss: 0.3950 - val_acc: 0.8641\n",
            "Epoch 43/100\n",
            "6540/6540 [==============================] - 1s 126us/sample - loss: 0.4066 - acc: 0.8653 - val_loss: 0.3951 - val_acc: 0.8637\n",
            "Epoch 44/100\n",
            "6540/6540 [==============================] - 1s 126us/sample - loss: 0.4071 - acc: 0.8625 - val_loss: 0.3956 - val_acc: 0.8656\n",
            "Epoch 45/100\n",
            "6540/6540 [==============================] - 1s 123us/sample - loss: 0.4039 - acc: 0.8648 - val_loss: 0.3935 - val_acc: 0.8625\n",
            "Epoch 46/100\n",
            "6540/6540 [==============================] - 1s 124us/sample - loss: 0.3975 - acc: 0.8688 - val_loss: 0.3931 - val_acc: 0.8641\n",
            "Epoch 47/100\n",
            "6540/6540 [==============================] - 1s 125us/sample - loss: 0.3944 - acc: 0.8680 - val_loss: 0.3935 - val_acc: 0.8625\n",
            "Epoch 48/100\n",
            "6540/6540 [==============================] - 1s 124us/sample - loss: 0.4049 - acc: 0.8625 - val_loss: 0.3997 - val_acc: 0.8675\n",
            "Epoch 49/100\n",
            "6540/6540 [==============================] - 1s 126us/sample - loss: 0.3997 - acc: 0.8673 - val_loss: 0.3955 - val_acc: 0.8613\n",
            "Epoch 50/100\n",
            "6540/6540 [==============================] - 1s 119us/sample - loss: 0.4026 - acc: 0.8635 - val_loss: 0.3960 - val_acc: 0.8647\n",
            "Epoch 51/100\n",
            "6540/6540 [==============================] - 1s 124us/sample - loss: 0.3987 - acc: 0.8662 - val_loss: 0.3900 - val_acc: 0.8634\n",
            "Epoch 52/100\n",
            "6540/6540 [==============================] - 1s 124us/sample - loss: 0.3951 - acc: 0.8671 - val_loss: 0.3894 - val_acc: 0.8644\n",
            "Epoch 53/100\n",
            "6540/6540 [==============================] - 1s 123us/sample - loss: 0.3960 - acc: 0.8647 - val_loss: 0.3922 - val_acc: 0.8653\n",
            "Epoch 54/100\n",
            "6540/6540 [==============================] - 1s 128us/sample - loss: 0.3930 - acc: 0.8676 - val_loss: 0.3902 - val_acc: 0.8662\n",
            "Epoch 55/100\n",
            "6540/6540 [==============================] - 1s 123us/sample - loss: 0.3977 - acc: 0.8653 - val_loss: 0.3946 - val_acc: 0.8669\n",
            "Epoch 56/100\n",
            "6540/6540 [==============================] - 1s 126us/sample - loss: 0.3986 - acc: 0.8619 - val_loss: 0.3916 - val_acc: 0.8597\n",
            "Epoch 57/100\n",
            "6540/6540 [==============================] - 1s 126us/sample - loss: 0.3917 - acc: 0.8688 - val_loss: 0.3864 - val_acc: 0.8641\n",
            "Epoch 58/100\n",
            "6540/6540 [==============================] - 1s 124us/sample - loss: 0.3946 - acc: 0.8685 - val_loss: 0.3907 - val_acc: 0.8616\n",
            "Epoch 59/100\n",
            "6540/6540 [==============================] - 1s 127us/sample - loss: 0.3898 - acc: 0.8690 - val_loss: 0.4078 - val_acc: 0.8672\n",
            "Epoch 60/100\n",
            "6540/6540 [==============================] - 1s 126us/sample - loss: 0.3935 - acc: 0.8635 - val_loss: 0.3874 - val_acc: 0.8641\n",
            "Epoch 61/100\n",
            "6540/6540 [==============================] - 1s 124us/sample - loss: 0.3962 - acc: 0.8664 - val_loss: 0.3897 - val_acc: 0.8675\n",
            "Epoch 62/100\n",
            "6540/6540 [==============================] - 1s 125us/sample - loss: 0.3891 - acc: 0.8700 - val_loss: 0.3878 - val_acc: 0.8641\n",
            "Epoch 63/100\n",
            "6540/6540 [==============================] - 1s 126us/sample - loss: 0.3815 - acc: 0.8699 - val_loss: 0.3852 - val_acc: 0.8634\n",
            "Epoch 64/100\n",
            "6540/6540 [==============================] - 1s 123us/sample - loss: 0.3859 - acc: 0.8694 - val_loss: 0.3948 - val_acc: 0.8631\n",
            "Epoch 65/100\n",
            "6540/6540 [==============================] - 1s 125us/sample - loss: 0.3857 - acc: 0.8700 - val_loss: 0.3820 - val_acc: 0.8656\n",
            "Epoch 66/100\n",
            "6540/6540 [==============================] - 1s 121us/sample - loss: 0.3877 - acc: 0.8711 - val_loss: 0.3851 - val_acc: 0.8681\n",
            "Epoch 67/100\n",
            "6540/6540 [==============================] - 1s 125us/sample - loss: 0.3851 - acc: 0.8703 - val_loss: 0.3861 - val_acc: 0.8684\n",
            "Epoch 68/100\n",
            "6540/6540 [==============================] - 1s 124us/sample - loss: 0.3835 - acc: 0.8714 - val_loss: 0.3826 - val_acc: 0.8659\n",
            "Epoch 69/100\n",
            "6540/6540 [==============================] - 1s 124us/sample - loss: 0.3855 - acc: 0.8664 - val_loss: 0.3863 - val_acc: 0.8669\n",
            "Epoch 70/100\n",
            "6540/6540 [==============================] - 1s 123us/sample - loss: 0.3798 - acc: 0.8720 - val_loss: 0.3822 - val_acc: 0.8690\n",
            "Epoch 71/100\n",
            "6540/6540 [==============================] - 1s 121us/sample - loss: 0.3842 - acc: 0.8661 - val_loss: 0.3921 - val_acc: 0.8597\n",
            "Epoch 72/100\n",
            "6540/6540 [==============================] - 1s 125us/sample - loss: 0.3834 - acc: 0.8700 - val_loss: 0.3813 - val_acc: 0.8662\n",
            "Epoch 73/100\n",
            "6540/6540 [==============================] - 1s 125us/sample - loss: 0.3823 - acc: 0.8679 - val_loss: 0.3967 - val_acc: 0.8662\n",
            "Epoch 74/100\n",
            "6540/6540 [==============================] - 1s 123us/sample - loss: 0.3800 - acc: 0.8702 - val_loss: 0.3907 - val_acc: 0.8693\n",
            "Epoch 75/100\n",
            "6540/6540 [==============================] - 1s 122us/sample - loss: 0.3782 - acc: 0.8708 - val_loss: 0.3805 - val_acc: 0.8696\n",
            "Epoch 76/100\n",
            "6540/6540 [==============================] - 1s 122us/sample - loss: 0.3771 - acc: 0.8723 - val_loss: 0.3920 - val_acc: 0.8690\n",
            "Epoch 77/100\n",
            "6540/6540 [==============================] - 1s 122us/sample - loss: 0.3822 - acc: 0.8705 - val_loss: 0.3853 - val_acc: 0.8675\n",
            "Epoch 78/100\n",
            "6540/6540 [==============================] - 1s 122us/sample - loss: 0.3808 - acc: 0.8683 - val_loss: 0.3900 - val_acc: 0.8547\n",
            "Epoch 79/100\n",
            "6540/6540 [==============================] - 1s 126us/sample - loss: 0.3798 - acc: 0.8699 - val_loss: 0.3785 - val_acc: 0.8665\n",
            "Epoch 80/100\n",
            "6540/6540 [==============================] - 1s 130us/sample - loss: 0.3808 - acc: 0.8685 - val_loss: 0.3842 - val_acc: 0.8690\n",
            "Epoch 81/100\n",
            "6540/6540 [==============================] - 1s 121us/sample - loss: 0.3764 - acc: 0.8749 - val_loss: 0.3796 - val_acc: 0.8631\n",
            "Epoch 82/100\n",
            "6540/6540 [==============================] - 1s 126us/sample - loss: 0.3835 - acc: 0.8667 - val_loss: 0.3917 - val_acc: 0.8672\n",
            "Epoch 83/100\n",
            "6540/6540 [==============================] - 1s 126us/sample - loss: 0.3795 - acc: 0.8694 - val_loss: 0.4070 - val_acc: 0.8420\n",
            "Epoch 84/100\n",
            "6540/6540 [==============================] - 1s 123us/sample - loss: 0.3803 - acc: 0.8708 - val_loss: 0.3871 - val_acc: 0.8693\n",
            "Epoch 85/100\n",
            "6540/6540 [==============================] - 1s 123us/sample - loss: 0.3781 - acc: 0.8677 - val_loss: 0.3774 - val_acc: 0.8693\n",
            "Epoch 86/100\n",
            "6540/6540 [==============================] - 1s 125us/sample - loss: 0.3755 - acc: 0.8694 - val_loss: 0.3746 - val_acc: 0.8734\n",
            "Epoch 87/100\n",
            "6540/6540 [==============================] - 1s 126us/sample - loss: 0.3764 - acc: 0.8726 - val_loss: 0.3842 - val_acc: 0.8628\n",
            "Epoch 88/100\n",
            "6540/6540 [==============================] - 1s 123us/sample - loss: 0.3826 - acc: 0.8691 - val_loss: 0.3823 - val_acc: 0.8687\n",
            "Epoch 89/100\n",
            "6540/6540 [==============================] - 1s 125us/sample - loss: 0.3722 - acc: 0.8693 - val_loss: 0.3737 - val_acc: 0.8700\n",
            "Epoch 90/100\n",
            "6540/6540 [==============================] - 1s 124us/sample - loss: 0.3706 - acc: 0.8708 - val_loss: 0.3742 - val_acc: 0.8727\n",
            "Epoch 91/100\n",
            "6540/6540 [==============================] - 1s 126us/sample - loss: 0.3736 - acc: 0.8694 - val_loss: 0.3791 - val_acc: 0.8759\n",
            "Epoch 92/100\n",
            "6540/6540 [==============================] - 1s 127us/sample - loss: 0.3748 - acc: 0.8735 - val_loss: 0.3753 - val_acc: 0.8681\n",
            "Epoch 93/100\n",
            "6540/6540 [==============================] - 1s 126us/sample - loss: 0.3764 - acc: 0.8705 - val_loss: 0.3733 - val_acc: 0.8721\n",
            "Epoch 94/100\n",
            "6540/6540 [==============================] - 1s 123us/sample - loss: 0.3745 - acc: 0.8697 - val_loss: 0.3733 - val_acc: 0.8681\n",
            "Epoch 95/100\n",
            "6540/6540 [==============================] - 1s 123us/sample - loss: 0.3746 - acc: 0.8729 - val_loss: 0.3769 - val_acc: 0.8687\n",
            "Epoch 96/100\n",
            "6540/6540 [==============================] - 1s 123us/sample - loss: 0.3719 - acc: 0.8700 - val_loss: 0.4286 - val_acc: 0.8333\n",
            "Epoch 97/100\n",
            "6540/6540 [==============================] - 1s 120us/sample - loss: 0.3709 - acc: 0.8699 - val_loss: 0.3879 - val_acc: 0.8594\n",
            "Epoch 98/100\n",
            "6540/6540 [==============================] - 1s 121us/sample - loss: 0.3714 - acc: 0.8726 - val_loss: 0.3757 - val_acc: 0.8681\n",
            "Epoch 99/100\n",
            "6540/6540 [==============================] - 1s 122us/sample - loss: 0.3711 - acc: 0.8723 - val_loss: 0.3846 - val_acc: 0.8696\n",
            "Epoch 100/100\n",
            "6540/6540 [==============================] - 1s 127us/sample - loss: 0.3726 - acc: 0.8743 - val_loss: 0.3941 - val_acc: 0.8523\n"
          ]
        }
      ]
    },
    {
      "cell_type": "code",
      "metadata": {
        "colab": {
          "base_uri": "https://localhost:8080/"
        },
        "id": "6kBgiwTHcx2D",
        "outputId": "542c8589-7a2a-4d77-e315-521f152f23f5"
      },
      "source": [
        "from sklearn.metrics import f1_score\n",
        "predict_x=news_DNN.predict(X_test) \n",
        "classes_x=np.argmax(predict_x,axis=1)\n",
        "y_pred = np.round(predict_x).astype(int)\n",
        "\n",
        "print(y_test.shape, classes_x.shape)\n",
        "f1_score(y_test, classes_x, average=None)"
      ],
      "execution_count": null,
      "outputs": [
        {
          "output_type": "stream",
          "name": "stdout",
          "text": [
            "(3222,) (3222,)\n"
          ]
        },
        {
          "output_type": "stream",
          "name": "stderr",
          "text": [
            "/usr/local/lib/python3.7/dist-packages/keras/engine/training_v1.py:2079: UserWarning: `Model.state_updates` will be removed in a future version. This property should not be used in TensorFlow 2.0, as `updates` are applied automatically.\n",
            "  updates=self.state_updates,\n"
          ]
        },
        {
          "output_type": "execute_result",
          "data": {
            "text/plain": [
              "array([0.89953567, 0.72098476])"
            ]
          },
          "metadata": {},
          "execution_count": 36
        }
      ]
    },
    {
      "cell_type": "code",
      "metadata": {
        "colab": {
          "base_uri": "https://localhost:8080/",
          "height": 791
        },
        "id": "4M9MGLdK-2_Y",
        "outputId": "b25b434d-2602-4fa7-cff8-281411ba5d81"
      },
      "source": [
        "with sns.color_palette(\"Accent\", n_colors=8):\n",
        "    plt.figure(figsize=(8,6))\n",
        "    sns.lineplot(data=np.asarray(m_h.history['acc']))\n",
        "    sns.lineplot(data=np.asarray(m_h.history['val_acc']))\n",
        "    plt.xlabel(\"Epochs\")\n",
        "    plt.ylabel(\"Accuracy\")\n",
        "    plt.title(\"Accuracy for Media Bias Classification\") # change title here\n",
        "    plt.legend(labels=['training', 'validation'],loc='lower right')\n",
        "    plt.savefig('outlets_bias_acc.svg',format='svg') # edit file title here\n",
        "with sns.color_palette(\"Accent\", n_colors=8):\n",
        "    plt.figure(figsize=(8,6))\n",
        "    sns.lineplot(data=np.asarray(m_h.history['loss']))\n",
        "    sns.lineplot(data=np.asarray(m_h.history['loss']))\n",
        "    plt.xlabel(\"Epochs\")\n",
        "    plt.ylabel(\"Loss\")\n",
        "    plt.title(\"Loss functions for Media Bias Classification\") #change title here\n",
        "    plt.legend(labels=['training', 'validation'])\n",
        "    plt.savefig('outlets_bias_loss.svg',format='SVG') # edit file title here"
      ],
      "execution_count": null,
      "outputs": [
        {
          "output_type": "display_data",
          "data": {
            "image/png": "[encoded data removed]",
            "text/plain": [
              "<Figure size 576x432 with 1 Axes>"
            ]
          },
          "metadata": {
            "needs_background": "light"
          }
        },
        {
          "output_type": "display_data",
          "data": {
            "image/png": "[encoded data removed]",
            "text/plain": [
              "<Figure size 576x432 with 1 Axes>"
            ]
          },
          "metadata": {
            "needs_background": "light"
          }
        }
      ]
    }
  ]
}